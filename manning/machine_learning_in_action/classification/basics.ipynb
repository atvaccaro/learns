{
 "cells": [
  {
   "cell_type": "code",
   "execution_count": 2,
   "metadata": {},
   "outputs": [],
   "source": [
    "from numpy import *"
   ]
  },
  {
   "cell_type": "code",
   "execution_count": 4,
   "metadata": {},
   "outputs": [
    {
     "data": {
      "text/plain": [
       "matrix([[ 0.02340425,  0.59238448,  0.74571546,  0.35770129],\n",
       "        [ 0.79902855,  0.46289406,  0.39911665,  0.14771463],\n",
       "        [ 0.16224618,  0.37960679,  0.58851825,  0.47271924],\n",
       "        [ 0.79059593,  0.39746049,  0.47229985,  0.17437366]])"
      ]
     },
     "execution_count": 4,
     "metadata": {},
     "output_type": "execute_result"
    }
   ],
   "source": [
    "rand_mat = mat(random.rand(4, 4))\n",
    "rand_mat"
   ]
  },
  {
   "cell_type": "code",
   "execution_count": 5,
   "metadata": {},
   "outputs": [
    {
     "data": {
      "text/plain": [
       "matrix([[  1.00000000e+00,  -5.25448221e-16,   1.25438195e-16,\n",
       "           3.34556852e-16],\n",
       "        [ -1.18034435e-16,   1.00000000e+00,  -2.21733035e-17,\n",
       "          -1.28355698e-16],\n",
       "        [  1.76169764e-16,  -6.00431169e-16,   1.00000000e+00,\n",
       "           2.51413746e-16],\n",
       "        [  1.14308515e-16,   3.12995843e-17,  -8.78300870e-17,\n",
       "           1.00000000e+00]])"
      ]
     },
     "execution_count": 5,
     "metadata": {},
     "output_type": "execute_result"
    }
   ],
   "source": [
    "inv = rand_mat.I\n",
    "rand_mat * inv"
   ]
  },
  {
   "cell_type": "code",
   "execution_count": null,
   "metadata": {},
   "outputs": [],
   "source": []
  }
 ],
 "metadata": {
  "kernelspec": {
   "display_name": "Python 2",
   "language": "python",
   "name": "python2"
  },
  "language_info": {
   "codemirror_mode": {
    "name": "ipython",
    "version": 2
   },
   "file_extension": ".py",
   "mimetype": "text/x-python",
   "name": "python",
   "nbconvert_exporter": "python",
   "pygments_lexer": "ipython2",
   "version": "2.7.8"
  }
 },
 "nbformat": 4,
 "nbformat_minor": 2
}
