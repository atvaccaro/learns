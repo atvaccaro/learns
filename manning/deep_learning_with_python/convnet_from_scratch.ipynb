{
 "cells": [
  {
   "cell_type": "code",
   "execution_count": 2,
   "metadata": {},
   "outputs": [
    {
     "name": "stderr",
     "output_type": "stream",
     "text": [
      "c:\\users\\595136\\appdata\\local\\programs\\python\\python36\\lib\\site-packages\\h5py\\__init__.py:36: FutureWarning: Conversion of the second argument of issubdtype from `float` to `np.floating` is deprecated. In future, it will be treated as `np.float64 == np.dtype(float).type`.\n",
      "  from ._conv import register_converters as _register_converters\n",
      "Using TensorFlow backend.\n"
     ]
    }
   ],
   "source": [
    "import os, shutil\n",
    "from keras import layers, models, optimizers\n",
    "from keras.preprocessing.image import ImageDataGenerator"
   ]
  },
  {
   "cell_type": "code",
   "execution_count": 1,
   "metadata": {},
   "outputs": [],
   "source": [
    "original_dataset_dir = 'train'\n",
    "base_dir = 'cats_and_dogs_small'\n",
    "os.mkdir(base_dir)\n",
    "\n",
    "train_dir = os.path.join(base_dir, 'train')\n",
    "os.mkdir(train_dir)\n",
    "validation_dir = os.path.join(base_dir, 'validation')\n",
    "os.mkdir(validation_dir)\n",
    "test_dir = os.path.join(base_dir, 'test')\n",
    "os.mkdir(test_dir)\n",
    "\n",
    "train_cats_dir = os.path.join(train_dir, 'cats')\n",
    "os.mkdir(train_cats_dir)\n",
    "train_dogs_dir = os.path.join(train_dir, 'dogs')\n",
    "os.mkdir(train_dogs_dir)\n",
    "\n",
    "validation_cats_dir = os.path.join(validation_dir, 'cats')\n",
    "os.mkdir(validation_cats_dir)\n",
    "validation_dogs_dir = os.path.join(validation_dir, 'dogs')\n",
    "os.mkdir(validation_dogs_dir)\n",
    "\n",
    "test_cats_dir = os.path.join(test_dir, 'cats')\n",
    "os.mkdir(test_cats_dir)\n",
    "test_dogs_dir = os.path.join(test_dir, 'dogs')\n",
    "os.mkdir(test_dogs_dir)\n",
    "\n",
    "fnames = ['cat.{}.jpg'.format(i) for i in range(1000)]\n",
    "for fname in fnames:\n",
    "    src = os.path.join(original_dataset_dir, fname)\n",
    "    dst = os.path.join(train_cats_dir, fname)\n",
    "    shutil.copyfile(src, dst)\n",
    "\n",
    "fnames = ['cat.{}.jpg'.format(i) for i in range(1000, 1500)]\n",
    "for fname in fnames:\n",
    "    src = os.path.join(original_dataset_dir, fname)\n",
    "    dst = os.path.join(validation_cats_dir, fname)\n",
    "    shutil.copyfile(src, dst)\n",
    "\n",
    "fnames = ['cat.{}.jpg'.format(i) for i in range(1500, 2000)]\n",
    "for fname in fnames:\n",
    "    src = os.path.join(original_dataset_dir, fname)\n",
    "    dst = os.path.join(test_cats_dir, fname)\n",
    "    shutil.copyfile(src, dst)\n",
    "\n",
    "fnames = ['dog.{}.jpg'.format(i) for i in range(1000)]\n",
    "for fname in fnames:\n",
    "    src = os.path.join(original_dataset_dir, fname)\n",
    "    dst = os.path.join(train_dogs_dir, fname)\n",
    "    shutil.copyfile(src, dst)\n",
    "\n",
    "fnames = ['dog.{}.jpg'.format(i) for i in range(1000, 1500)]\n",
    "for fname in fnames:\n",
    "    src = os.path.join(original_dataset_dir, fname)\n",
    "    dst = os.path.join(validation_dogs_dir, fname)\n",
    "    shutil.copyfile(src, dst)\n",
    "\n",
    "fnames = ['dog.{}.jpg'.format(i) for i in range(1500, 2000)]\n",
    "for fname in fnames:\n",
    "    src = os.path.join(original_dataset_dir, fname)\n",
    "    dst = os.path.join(test_dogs_dir, fname)\n",
    "    shutil.copyfile(src, dst)"
   ]
  },
  {
   "cell_type": "code",
   "execution_count": 2,
   "metadata": {},
   "outputs": [
    {
     "name": "stdout",
     "output_type": "stream",
     "text": [
      "total training cat images: 1000\n",
      "total training dog images: 1000\n",
      "total validation cat images: 500\n",
      "total validation dog images: 500\n",
      "total test cat images: 500\n",
      "total test dog images: 500\n"
     ]
    }
   ],
   "source": [
    "print('total training cat images:', len(os.listdir(train_cats_dir)))\n",
    "print('total training dog images:', len(os.listdir(train_dogs_dir)))\n",
    "print('total validation cat images:', len(os.listdir(validation_cats_dir)))\n",
    "print('total validation dog images:', len(os.listdir(validation_dogs_dir)))\n",
    "print('total test cat images:', len(os.listdir(test_cats_dir)))\n",
    "print('total test dog images:', len(os.listdir(test_dogs_dir)))"
   ]
  },
  {
   "cell_type": "code",
   "execution_count": 3,
   "metadata": {},
   "outputs": [
    {
     "name": "stderr",
     "output_type": "stream",
     "text": [
      "c:\\users\\595136\\appdata\\local\\programs\\python\\python36\\lib\\site-packages\\h5py\\__init__.py:36: FutureWarning: Conversion of the second argument of issubdtype from `float` to `np.floating` is deprecated. In future, it will be treated as `np.float64 == np.dtype(float).type`.\n",
      "  from ._conv import register_converters as _register_converters\n",
      "Using TensorFlow backend.\n"
     ]
    },
    {
     "name": "stdout",
     "output_type": "stream",
     "text": [
      "_________________________________________________________________\n",
      "Layer (type)                 Output Shape              Param #   \n",
      "=================================================================\n",
      "conv2d_1 (Conv2D)            (None, 148, 148, 32)      896       \n",
      "_________________________________________________________________\n",
      "max_pooling2d_1 (MaxPooling2 (None, 74, 74, 32)        0         \n",
      "_________________________________________________________________\n",
      "conv2d_2 (Conv2D)            (None, 72, 72, 64)        18496     \n",
      "_________________________________________________________________\n",
      "max_pooling2d_2 (MaxPooling2 (None, 36, 36, 64)        0         \n",
      "_________________________________________________________________\n",
      "conv2d_3 (Conv2D)            (None, 34, 34, 128)       73856     \n",
      "_________________________________________________________________\n",
      "max_pooling2d_3 (MaxPooling2 (None, 17, 17, 128)       0         \n",
      "_________________________________________________________________\n",
      "conv2d_4 (Conv2D)            (None, 15, 15, 128)       147584    \n",
      "_________________________________________________________________\n",
      "max_pooling2d_4 (MaxPooling2 (None, 7, 7, 128)         0         \n",
      "_________________________________________________________________\n",
      "flatten_1 (Flatten)          (None, 6272)              0         \n",
      "_________________________________________________________________\n",
      "dense_1 (Dense)              (None, 512)               3211776   \n",
      "_________________________________________________________________\n",
      "dense_2 (Dense)              (None, 1)                 513       \n",
      "=================================================================\n",
      "Total params: 3,453,121\n",
      "Trainable params: 3,453,121\n",
      "Non-trainable params: 0\n",
      "_________________________________________________________________\n"
     ]
    }
   ],
   "source": [
    "model = models.Sequential()\n",
    "model.add(layers.Conv2D(32, (3, 3), activation='relu',\n",
    "input_shape=(150, 150, 3)))\n",
    "model.add(layers.MaxPooling2D((2, 2)))\n",
    "model.add(layers.Conv2D(64, (3, 3), activation='relu'))\n",
    "model.add(layers.MaxPooling2D((2, 2)))\n",
    "model.add(layers.Conv2D(128, (3, 3), activation='relu'))\n",
    "model.add(layers.MaxPooling2D((2, 2)))\n",
    "model.add(layers.Conv2D(128, (3, 3), activation='relu'))\n",
    "model.add(layers.MaxPooling2D((2, 2)))\n",
    "model.add(layers.Flatten())\n",
    "model.add(layers.Dense(512, activation='relu'))\n",
    "model.add(layers.Dense(1, activation='sigmoid'))\n",
    "model.summary()"
   ]
  },
  {
   "cell_type": "code",
   "execution_count": 4,
   "metadata": {},
   "outputs": [],
   "source": [
    "model.compile(loss='binary_crossentropy', optimizer=optimizers.RMSprop(lr=1e-4), metrics=['acc'])"
   ]
  },
  {
   "cell_type": "code",
   "execution_count": 5,
   "metadata": {},
   "outputs": [
    {
     "name": "stdout",
     "output_type": "stream",
     "text": [
      "Found 2000 images belonging to 2 classes.\n",
      "Found 1000 images belonging to 2 classes.\n"
     ]
    }
   ],
   "source": [
    "train_datagen = ImageDataGenerator(rescale=1./255)\n",
    "test_datagen = ImageDataGenerator(rescale=1./255)\n",
    "\n",
    "train_generator = train_datagen.flow_from_directory(train_dir, target_size=(150, 150), batch_size=20, class_mode='binary')\n",
    "validation_generator = test_datagen.flow_from_directory(validation_dir, target_size=(150, 150), batch_size=20, class_mode='binary')"
   ]
  },
  {
   "cell_type": "code",
   "execution_count": 6,
   "metadata": {},
   "outputs": [
    {
     "name": "stdout",
     "output_type": "stream",
     "text": [
      "data batch shape: (20, 150, 150, 3)\n",
      "labels batch shape: (20,)\n"
     ]
    }
   ],
   "source": [
    "for data_batch, labels_batch in train_generator:\n",
    "    print('data batch shape:', data_batch.shape)\n",
    "    print('labels batch shape:', labels_batch.shape)\n",
    "    break"
   ]
  },
  {
   "cell_type": "code",
   "execution_count": 7,
   "metadata": {},
   "outputs": [
    {
     "name": "stdout",
     "output_type": "stream",
     "text": [
      "Epoch 1/30\n",
      "100/100 [==============================] - 77s 766ms/step - loss: 0.6872 - acc: 0.5505 - val_loss: 0.6648 - val_acc: 0.6020\n",
      "Epoch 2/30\n",
      "100/100 [==============================] - 87s 866ms/step - loss: 0.6560 - acc: 0.6210 - val_loss: 0.6424 - val_acc: 0.6260\n",
      "Epoch 3/30\n",
      "100/100 [==============================] - 92s 916ms/step - loss: 0.6047 - acc: 0.6740 - val_loss: 0.6205 - val_acc: 0.6560\n",
      "Epoch 4/30\n",
      "100/100 [==============================] - 87s 873ms/step - loss: 0.5697 - acc: 0.7060 - val_loss: 0.5914 - val_acc: 0.6840\n",
      "Epoch 5/30\n",
      "100/100 [==============================] - 86s 857ms/step - loss: 0.5316 - acc: 0.7235 - val_loss: 0.5953 - val_acc: 0.6720\n",
      "Epoch 6/30\n",
      "100/100 [==============================] - 90s 902ms/step - loss: 0.4983 - acc: 0.7545 - val_loss: 0.5627 - val_acc: 0.7010\n",
      "Epoch 7/30\n",
      "100/100 [==============================] - 91s 913ms/step - loss: 0.4796 - acc: 0.7655 - val_loss: 0.5693 - val_acc: 0.7090\n",
      "Epoch 8/30\n",
      "100/100 [==============================] - 89s 889ms/step - loss: 0.4507 - acc: 0.7830 - val_loss: 0.5689 - val_acc: 0.7010\n",
      "Epoch 9/30\n",
      "100/100 [==============================] - 84s 845ms/step - loss: 0.4204 - acc: 0.8045 - val_loss: 0.6244 - val_acc: 0.6910\n",
      "Epoch 10/30\n",
      "100/100 [==============================] - 84s 843ms/step - loss: 0.3911 - acc: 0.8215 - val_loss: 0.5388 - val_acc: 0.7270\n",
      "Epoch 11/30\n",
      "100/100 [==============================] - 90s 900ms/step - loss: 0.3681 - acc: 0.8455 - val_loss: 0.5308 - val_acc: 0.7260\n",
      "Epoch 12/30\n",
      "100/100 [==============================] - 90s 897ms/step - loss: 0.3482 - acc: 0.8455 - val_loss: 0.5789 - val_acc: 0.7050\n",
      "Epoch 13/30\n",
      "100/100 [==============================] - 86s 860ms/step - loss: 0.3201 - acc: 0.8605 - val_loss: 0.5830 - val_acc: 0.7290\n",
      "Epoch 14/30\n",
      "100/100 [==============================] - 88s 875ms/step - loss: 0.2991 - acc: 0.8760 - val_loss: 0.6265 - val_acc: 0.7180\n",
      "Epoch 15/30\n",
      "100/100 [==============================] - 80s 798ms/step - loss: 0.2724 - acc: 0.8800 - val_loss: 0.5586 - val_acc: 0.7340\n",
      "Epoch 16/30\n",
      "100/100 [==============================] - 84s 838ms/step - loss: 0.2515 - acc: 0.9025 - val_loss: 0.6108 - val_acc: 0.7390\n",
      "Epoch 17/30\n",
      "100/100 [==============================] - 86s 864ms/step - loss: 0.2277 - acc: 0.9130 - val_loss: 0.6808 - val_acc: 0.7280\n",
      "Epoch 18/30\n",
      "100/100 [==============================] - 87s 872ms/step - loss: 0.2113 - acc: 0.9195 - val_loss: 0.6346 - val_acc: 0.7480\n",
      "Epoch 19/30\n",
      "100/100 [==============================] - 86s 860ms/step - loss: 0.1912 - acc: 0.9260 - val_loss: 0.6624 - val_acc: 0.7230\n",
      "Epoch 20/30\n",
      "100/100 [==============================] - 95s 951ms/step - loss: 0.1621 - acc: 0.9390 - val_loss: 0.7299 - val_acc: 0.7320\n",
      "Epoch 21/30\n",
      "100/100 [==============================] - 92s 919ms/step - loss: 0.1490 - acc: 0.9500 - val_loss: 0.7020 - val_acc: 0.7320\n",
      "Epoch 22/30\n",
      "100/100 [==============================] - 87s 867ms/step - loss: 0.1280 - acc: 0.9570 - val_loss: 0.7460 - val_acc: 0.7220\n",
      "Epoch 23/30\n",
      "100/100 [==============================] - 83s 833ms/step - loss: 0.1109 - acc: 0.9645 - val_loss: 0.7412 - val_acc: 0.7400\n",
      "Epoch 24/30\n",
      "100/100 [==============================] - 88s 879ms/step - loss: 0.0991 - acc: 0.9680 - val_loss: 0.8959 - val_acc: 0.6980\n",
      "Epoch 25/30\n",
      "100/100 [==============================] - 84s 842ms/step - loss: 0.0837 - acc: 0.9730 - val_loss: 0.8408 - val_acc: 0.7340\n",
      "Epoch 26/30\n",
      "100/100 [==============================] - 86s 856ms/step - loss: 0.0818 - acc: 0.9765 - val_loss: 0.8621 - val_acc: 0.7240\n",
      "Epoch 27/30\n",
      "100/100 [==============================] - 86s 860ms/step - loss: 0.0603 - acc: 0.9835 - val_loss: 1.0656 - val_acc: 0.7150\n",
      "Epoch 28/30\n",
      "100/100 [==============================] - 86s 860ms/step - loss: 0.0539 - acc: 0.9860 - val_loss: 0.8803 - val_acc: 0.7320\n",
      "Epoch 29/30\n",
      "100/100 [==============================] - 90s 900ms/step - loss: 0.0456 - acc: 0.9870 - val_loss: 1.3810 - val_acc: 0.6930\n",
      "Epoch 30/30\n",
      "100/100 [==============================] - 86s 864ms/step - loss: 0.0370 - acc: 0.9925 - val_loss: 1.3118 - val_acc: 0.7130\n"
     ]
    }
   ],
   "source": [
    "history = model.fit_generator(train_generator, steps_per_epoch=100, epochs=30, validation_data=validation_generator, validation_steps=50)\n",
    "model.save('cats_and_dogs_small_1.h5')"
   ]
  },
  {
   "cell_type": "code",
   "execution_count": 4,
   "metadata": {},
   "outputs": [
    {
     "name": "stdout",
     "output_type": "stream",
     "text": [
      "_________________________________________________________________\n",
      "Layer (type)                 Output Shape              Param #   \n",
      "=================================================================\n",
      "conv2d_1 (Conv2D)            (None, 148, 148, 32)      896       \n",
      "_________________________________________________________________\n",
      "max_pooling2d_1 (MaxPooling2 (None, 74, 74, 32)        0         \n",
      "_________________________________________________________________\n",
      "conv2d_2 (Conv2D)            (None, 72, 72, 64)        18496     \n",
      "_________________________________________________________________\n",
      "max_pooling2d_2 (MaxPooling2 (None, 36, 36, 64)        0         \n",
      "_________________________________________________________________\n",
      "conv2d_3 (Conv2D)            (None, 34, 34, 128)       73856     \n",
      "_________________________________________________________________\n",
      "max_pooling2d_3 (MaxPooling2 (None, 17, 17, 128)       0         \n",
      "_________________________________________________________________\n",
      "conv2d_4 (Conv2D)            (None, 15, 15, 128)       147584    \n",
      "_________________________________________________________________\n",
      "max_pooling2d_4 (MaxPooling2 (None, 7, 7, 128)         0         \n",
      "_________________________________________________________________\n",
      "flatten_1 (Flatten)          (None, 6272)              0         \n",
      "_________________________________________________________________\n",
      "dense_1 (Dense)              (None, 512)               3211776   \n",
      "_________________________________________________________________\n",
      "dense_2 (Dense)              (None, 1)                 513       \n",
      "=================================================================\n",
      "Total params: 3,453,121\n",
      "Trainable params: 3,453,121\n",
      "Non-trainable params: 0\n",
      "_________________________________________________________________\n"
     ]
    }
   ],
   "source": [
    "model = models.load_model('cats_and_dogs_small_1.h5')\n",
    "model.summary()"
   ]
  },
  {
   "cell_type": "code",
   "execution_count": null,
   "metadata": {},
   "outputs": [],
   "source": []
  }
 ],
 "metadata": {
  "kernelspec": {
   "display_name": "Python 3",
   "language": "python",
   "name": "python3"
  },
  "language_info": {
   "codemirror_mode": {
    "name": "ipython",
    "version": 3
   },
   "file_extension": ".py",
   "mimetype": "text/x-python",
   "name": "python",
   "nbconvert_exporter": "python",
   "pygments_lexer": "ipython3",
   "version": "3.6.4"
  }
 },
 "nbformat": 4,
 "nbformat_minor": 2
}
