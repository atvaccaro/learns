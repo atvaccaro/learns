{
 "cells": [
  {
   "cell_type": "code",
   "execution_count": 1,
   "metadata": {},
   "outputs": [
    {
     "name": "stderr",
     "output_type": "stream",
     "text": [
      "Using TensorFlow backend.\n",
      "/Users/atvaccaro/.pyenv/versions/3.6.3/lib/python3.6/importlib/_bootstrap.py:219: RuntimeWarning: compiletime version 3.5 of module 'tensorflow.python.framework.fast_tensor_util' does not match runtime version 3.6\n",
      "  return f(*args, **kwds)\n"
     ]
    }
   ],
   "source": [
    "import matplotlib.pyplot as plt\n",
    "import numpy as np\n",
    "from keras import layers, models\n",
    "from keras.datasets import imdb"
   ]
  },
  {
   "cell_type": "code",
   "execution_count": 2,
   "metadata": {},
   "outputs": [
    {
     "data": {
      "text/plain": [
       "9999"
      ]
     },
     "execution_count": 2,
     "metadata": {},
     "output_type": "execute_result"
    }
   ],
   "source": [
    "(train_data, train_labels), (test_data, test_labels) = imdb.load_data(num_words=10000)\n",
    "max([max(sequence) for sequence in train_data])"
   ]
  },
  {
   "cell_type": "code",
   "execution_count": 14,
   "metadata": {},
   "outputs": [],
   "source": [
    "word_index = imdb.get_word_index()\n",
    "def decode(review):\n",
    "    reverse_word_index = dict([(value, key) for (key, value) in word_index.items()])\n",
    "    decoded_review = ' '.join([reverse_word_index.get(i - 3, '?') for i in review])\n",
    "    return decoded_review"
   ]
  },
  {
   "cell_type": "code",
   "execution_count": 4,
   "metadata": {},
   "outputs": [
    {
     "data": {
      "text/plain": [
       "array([ 0.,  1.,  1., ...,  0.,  0.,  0.])"
      ]
     },
     "execution_count": 4,
     "metadata": {},
     "output_type": "execute_result"
    }
   ],
   "source": [
    "def vectorize_sequences(sequences, dimension=10000):\n",
    "    results = np.zeros((len(sequences), dimension))\n",
    "    for i, sequence in enumerate(sequences):\n",
    "        results[i, sequence] = 1.\n",
    "    return results\n",
    "x_train = vectorize_sequences(train_data)\n",
    "x_test = vectorize_sequences(test_data)\n",
    "x_train[0]"
   ]
  },
  {
   "cell_type": "code",
   "execution_count": 5,
   "metadata": {},
   "outputs": [],
   "source": [
    "y_train = np.asarray(train_labels).astype('float32')\n",
    "y_test = np.asarray(test_labels).astype('float32')"
   ]
  },
  {
   "cell_type": "code",
   "execution_count": 6,
   "metadata": {},
   "outputs": [],
   "source": [
    "model = models.Sequential()\n",
    "model.add(layers.Dense(16, activation='relu', input_shape=(10000,)))\n",
    "model.add(layers.Dense(16, activation='relu'))\n",
    "model.add(layers.Dense(1, activation='sigmoid'))\n",
    "model.compile(optimizer='rmsprop', loss='binary_crossentropy', metrics=['accuracy'])"
   ]
  },
  {
   "cell_type": "code",
   "execution_count": 7,
   "metadata": {},
   "outputs": [
    {
     "name": "stdout",
     "output_type": "stream",
     "text": [
      "Train on 15000 samples, validate on 10000 samples\n",
      "Epoch 1/20\n",
      "15000/15000 [==============================] - 5s 307us/step - loss: 0.5087 - acc: 0.7807 - val_loss: 0.3794 - val_acc: 0.8695\n",
      "Epoch 2/20\n",
      "15000/15000 [==============================] - 2s 156us/step - loss: 0.3006 - acc: 0.9055 - val_loss: 0.3003 - val_acc: 0.8900\n",
      "Epoch 3/20\n",
      "15000/15000 [==============================] - 2s 148us/step - loss: 0.2180 - acc: 0.9283 - val_loss: 0.3081 - val_acc: 0.8715\n",
      "Epoch 4/20\n",
      "15000/15000 [==============================] - 3s 195us/step - loss: 0.1750 - acc: 0.9436 - val_loss: 0.2838 - val_acc: 0.8839\n",
      "Epoch 5/20\n",
      "15000/15000 [==============================] - 2s 164us/step - loss: 0.1425 - acc: 0.9545 - val_loss: 0.2848 - val_acc: 0.8863\n",
      "Epoch 6/20\n",
      "15000/15000 [==============================] - 2s 155us/step - loss: 0.1148 - acc: 0.9654 - val_loss: 0.3146 - val_acc: 0.8776\n",
      "Epoch 7/20\n",
      "15000/15000 [==============================] - 2s 155us/step - loss: 0.0978 - acc: 0.9706 - val_loss: 0.3130 - val_acc: 0.8846\n",
      "Epoch 8/20\n",
      "15000/15000 [==============================] - 2s 158us/step - loss: 0.0806 - acc: 0.9765 - val_loss: 0.3860 - val_acc: 0.8649\n",
      "Epoch 9/20\n",
      "15000/15000 [==============================] - 2s 165us/step - loss: 0.0660 - acc: 0.9821 - val_loss: 0.3636 - val_acc: 0.8778\n",
      "Epoch 10/20\n",
      "15000/15000 [==============================] - 2s 162us/step - loss: 0.0556 - acc: 0.9851 - val_loss: 0.3845 - val_acc: 0.8792\n",
      "Epoch 11/20\n",
      "15000/15000 [==============================] - 2s 155us/step - loss: 0.0446 - acc: 0.9889 - val_loss: 0.4163 - val_acc: 0.8769\n",
      "Epoch 12/20\n",
      "15000/15000 [==============================] - 2s 158us/step - loss: 0.0383 - acc: 0.9915 - val_loss: 0.4510 - val_acc: 0.8698\n",
      "Epoch 13/20\n",
      "15000/15000 [==============================] - 2s 156us/step - loss: 0.0297 - acc: 0.9929 - val_loss: 0.4703 - val_acc: 0.8733\n",
      "Epoch 14/20\n",
      "15000/15000 [==============================] - 2s 157us/step - loss: 0.0244 - acc: 0.9949 - val_loss: 0.5034 - val_acc: 0.8726\n",
      "Epoch 15/20\n",
      "15000/15000 [==============================] - 2s 160us/step - loss: 0.0173 - acc: 0.9981 - val_loss: 0.5448 - val_acc: 0.8691\n",
      "Epoch 16/20\n",
      "15000/15000 [==============================] - 2s 159us/step - loss: 0.0167 - acc: 0.9968 - val_loss: 0.5746 - val_acc: 0.8705\n",
      "Epoch 17/20\n",
      "15000/15000 [==============================] - 2s 161us/step - loss: 0.0092 - acc: 0.9995 - val_loss: 0.6231 - val_acc: 0.8649\n",
      "Epoch 18/20\n",
      "15000/15000 [==============================] - 2s 161us/step - loss: 0.0111 - acc: 0.9975 - val_loss: 0.6419 - val_acc: 0.8663\n",
      "Epoch 19/20\n",
      "15000/15000 [==============================] - 2s 160us/step - loss: 0.0105 - acc: 0.9978 - val_loss: 0.6772 - val_acc: 0.8658\n",
      "Epoch 20/20\n",
      "15000/15000 [==============================] - 3s 174us/step - loss: 0.0038 - acc: 0.9999 - val_loss: 0.6947 - val_acc: 0.8651\n"
     ]
    },
    {
     "data": {
      "text/plain": [
       "<keras.callbacks.History at 0x116587710>"
      ]
     },
     "execution_count": 7,
     "metadata": {},
     "output_type": "execute_result"
    }
   ],
   "source": [
    "x_val = x_train[:10000]\n",
    "partial_x_train = x_train[10000:]\n",
    "y_val = y_train[:10000]\n",
    "partial_y_train = y_train[10000:]\n",
    "\n",
    "history = model.fit(partial_x_train, partial_y_train, epochs=20, batch_size=512, validation_data=(x_val, y_val))\n",
    "history"
   ]
  },
  {
   "cell_type": "code",
   "execution_count": 8,
   "metadata": {},
   "outputs": [
    {
     "data": {
      "image/png": "[encoded data removed]",
      "text/plain": [
       "<matplotlib.figure.Figure at 0x116636320>"
      ]
     },
     "metadata": {},
     "output_type": "display_data"
    },
    {
     "data": {
      "image/png": "[encoded data removed]",
      "text/plain": [
       "<matplotlib.figure.Figure at 0x1166a6438>"
      ]
     },
     "metadata": {},
     "output_type": "display_data"
    }
   ],
   "source": [
    "history_dict = history.history\n",
    "loss_values = history_dict['loss']\n",
    "val_loss_values = history_dict['val_loss']\n",
    "\n",
    "epochs = range(1, len(loss_values) + 1)\n",
    "\n",
    "plt.plot(epochs, loss_values, 'bo', label='Training loss')\n",
    "plt.plot(epochs, val_loss_values, 'b', label='Validation loss')\n",
    "plt.title('Training and validation loss')\n",
    "plt.xlabel('Epochs')\n",
    "plt.ylabel('Loss')\n",
    "plt.legend()\n",
    "plt.show()\n",
    "\n",
    "plt.clf()\n",
    "acc_values = history_dict['acc']\n",
    "val_acc_values = history_dict['val_acc']\n",
    "\n",
    "plt.plot(epochs, acc_values, 'bo', label='Training accuracy')\n",
    "plt.plot(epochs, val_acc_values, 'b', label='Validation accuracy')\n",
    "plt.title('Training and validation accuracy')\n",
    "plt.xlabel('Epochs')\n",
    "plt.ylabel('Accuracy')\n",
    "plt.legend()\n",
    "plt.show()"
   ]
  },
  {
   "cell_type": "code",
   "execution_count": 9,
   "metadata": {},
   "outputs": [
    {
     "name": "stdout",
     "output_type": "stream",
     "text": [
      "Train on 15000 samples, validate on 10000 samples\n",
      "Epoch 1/4\n",
      "15000/15000 [==============================] - 3s 178us/step - loss: 0.5325 - acc: 0.7916 - val_loss: 0.4061 - val_acc: 0.8699\n",
      "Epoch 2/4\n",
      "15000/15000 [==============================] - 2s 152us/step - loss: 0.3254 - acc: 0.8996 - val_loss: 0.3152 - val_acc: 0.8852\n",
      "Epoch 3/4\n",
      "15000/15000 [==============================] - 2s 155us/step - loss: 0.2357 - acc: 0.9241 - val_loss: 0.2827 - val_acc: 0.8897\n",
      "Epoch 4/4\n",
      "15000/15000 [==============================] - 2s 156us/step - loss: 0.1867 - acc: 0.9395 - val_loss: 0.2870 - val_acc: 0.8839\n",
      "25000/25000 [==============================] - 5s 219us/step\n"
     ]
    },
    {
     "data": {
      "text/plain": [
       "[0.30206181801795962, 0.87707999999999997]"
      ]
     },
     "execution_count": 9,
     "metadata": {},
     "output_type": "execute_result"
    }
   ],
   "source": [
    "model = models.Sequential()\n",
    "model.add(layers.Dense(16, activation='relu', input_shape=(10000,)))\n",
    "model.add(layers.Dense(16, activation='relu'))\n",
    "model.add(layers.Dense(1, activation='sigmoid'))\n",
    "model.compile(optimizer='rmsprop', loss='binary_crossentropy', metrics=['accuracy'])\n",
    "\n",
    "model.fit(partial_x_train, partial_y_train, epochs=4, batch_size=512, validation_data=(x_val, y_val))\n",
    "\n",
    "results = model.evaluate(x_test, y_test)\n",
    "results"
   ]
  },
  {
   "cell_type": "code",
   "execution_count": 10,
   "metadata": {},
   "outputs": [
    {
     "data": {
      "text/plain": [
       "array([[ 0.33838961],\n",
       "       [ 0.99960607],\n",
       "       [ 0.93660051],\n",
       "       ..., \n",
       "       [ 0.14746602],\n",
       "       [ 0.19314578],\n",
       "       [ 0.65383506]], dtype=float32)"
      ]
     },
     "execution_count": 10,
     "metadata": {},
     "output_type": "execute_result"
    }
   ],
   "source": [
    "model.predict(x_test)"
   ]
  },
  {
   "cell_type": "code",
   "execution_count": 11,
   "metadata": {},
   "outputs": [
    {
     "name": "stdout",
     "output_type": "stream",
     "text": [
      "Train on 15000 samples, validate on 10000 samples\n",
      "Epoch 1/4\n",
      "15000/15000 [==============================] - 4s 241us/step - loss: 0.4912 - acc: 0.7977 - val_loss: 0.3862 - val_acc: 0.8641\n",
      "Epoch 2/4\n",
      "15000/15000 [==============================] - 3s 176us/step - loss: 0.3071 - acc: 0.9056 - val_loss: 0.3136 - val_acc: 0.8881\n",
      "Epoch 3/4\n",
      "15000/15000 [==============================] - 3s 167us/step - loss: 0.2391 - acc: 0.9247 - val_loss: 0.2926 - val_acc: 0.8890\n",
      "Epoch 4/4\n",
      "15000/15000 [==============================] - 3s 167us/step - loss: 0.1972 - acc: 0.9385 - val_loss: 0.2771 - val_acc: 0.8906\n",
      "25000/25000 [==============================] - 3s 121us/step\n"
     ]
    },
    {
     "data": {
      "text/plain": [
       "[0.29317520842552186, 0.88475999999999999]"
      ]
     },
     "execution_count": 11,
     "metadata": {},
     "output_type": "execute_result"
    }
   ],
   "source": [
    "model = models.Sequential()\n",
    "model.add(layers.Dense(16, activation='relu', input_shape=(10000,)))\n",
    "model.add(layers.Dense(1, activation='sigmoid'))\n",
    "model.compile(optimizer='rmsprop', loss='binary_crossentropy', metrics=['accuracy'])\n",
    "\n",
    "model.fit(partial_x_train, partial_y_train, epochs=4, batch_size=512, validation_data=(x_val, y_val))\n",
    "\n",
    "results = model.evaluate(x_test, y_test)\n",
    "results"
   ]
  },
  {
   "cell_type": "code",
   "execution_count": 12,
   "metadata": {},
   "outputs": [
    {
     "name": "stdout",
     "output_type": "stream",
     "text": [
      "Train on 15000 samples, validate on 10000 samples\n",
      "Epoch 1/4\n",
      "15000/15000 [==============================] - 3s 179us/step - loss: 0.5423 - acc: 0.7767 - val_loss: 0.4432 - val_acc: 0.8139\n",
      "Epoch 2/4\n",
      "15000/15000 [==============================] - 2s 146us/step - loss: 0.3283 - acc: 0.9001 - val_loss: 0.3102 - val_acc: 0.8873\n",
      "Epoch 3/4\n",
      "15000/15000 [==============================] - 2s 145us/step - loss: 0.2312 - acc: 0.9258 - val_loss: 0.2924 - val_acc: 0.8854\n",
      "Epoch 4/4\n",
      "15000/15000 [==============================] - 3s 182us/step - loss: 0.1738 - acc: 0.9429 - val_loss: 0.2799 - val_acc: 0.8885\n",
      "25000/25000 [==============================] - 3s 127us/step\n"
     ]
    },
    {
     "data": {
      "text/plain": [
       "[0.30266061984062193, 0.87839999999999996]"
      ]
     },
     "execution_count": 12,
     "metadata": {},
     "output_type": "execute_result"
    }
   ],
   "source": [
    "model = models.Sequential()\n",
    "model.add(layers.Dense(16, activation='relu', input_shape=(10000,)))\n",
    "model.add(layers.Dense(16, activation='relu'))\n",
    "model.add(layers.Dense(16, activation='relu'))\n",
    "model.add(layers.Dense(1, activation='sigmoid'))\n",
    "model.compile(optimizer='rmsprop', loss='binary_crossentropy', metrics=['accuracy'])\n",
    "\n",
    "model.fit(partial_x_train, partial_y_train, epochs=4, batch_size=512, validation_data=(x_val, y_val))\n",
    "\n",
    "results = model.evaluate(x_test, y_test)\n",
    "results"
   ]
  },
  {
   "cell_type": "code",
   "execution_count": 13,
   "metadata": {},
   "outputs": [
    {
     "name": "stdout",
     "output_type": "stream",
     "text": [
      "Train on 15000 samples, validate on 10000 samples\n",
      "Epoch 1/4\n",
      "15000/15000 [==============================] - 3s 221us/step - loss: 0.1736 - acc: 0.7863 - val_loss: 0.1258 - val_acc: 0.8662\n",
      "Epoch 2/4\n",
      "15000/15000 [==============================] - 2s 150us/step - loss: 0.0944 - acc: 0.9019 - val_loss: 0.0955 - val_acc: 0.8887\n",
      "Epoch 3/4\n",
      "15000/15000 [==============================] - 3s 170us/step - loss: 0.0668 - acc: 0.9282 - val_loss: 0.0872 - val_acc: 0.8873\n",
      "Epoch 4/4\n",
      "15000/15000 [==============================] - 3s 168us/step - loss: 0.0528 - acc: 0.9427 - val_loss: 0.0849 - val_acc: 0.8871\n",
      "25000/25000 [==============================] - 3s 117us/step\n"
     ]
    },
    {
     "data": {
      "text/plain": [
       "[0.092008557610511785, 0.87807999999999997]"
      ]
     },
     "execution_count": 13,
     "metadata": {},
     "output_type": "execute_result"
    }
   ],
   "source": [
    "model = models.Sequential()\n",
    "model.add(layers.Dense(16, activation='relu', input_shape=(10000,)))\n",
    "model.add(layers.Dense(16, activation='relu'))\n",
    "model.add(layers.Dense(1, activation='sigmoid'))\n",
    "model.compile(optimizer='rmsprop', loss='mse', metrics=['accuracy'])\n",
    "\n",
    "model.fit(partial_x_train, partial_y_train, epochs=4, batch_size=512, validation_data=(x_val, y_val))\n",
    "\n",
    "results = model.evaluate(x_test, y_test)\n",
    "results"
   ]
  },
  {
   "cell_type": "code",
   "execution_count": 18,
   "metadata": {},
   "outputs": [
    {
     "name": "stdout",
     "output_type": "stream",
     "text": [
      "Train on 15000 samples, validate on 10000 samples\n",
      "Epoch 1/4\n",
      "15000/15000 [==============================] - 3s 200us/step - loss: 0.5362 - acc: 0.7773 - val_loss: 0.3959 - val_acc: 0.8708\n",
      "Epoch 2/4\n",
      "15000/15000 [==============================] - 2s 153us/step - loss: 0.3112 - acc: 0.9027 - val_loss: 0.3247 - val_acc: 0.8753\n",
      "Epoch 3/4\n",
      "15000/15000 [==============================] - 2s 153us/step - loss: 0.2259 - acc: 0.9273 - val_loss: 0.2794 - val_acc: 0.8911\n",
      "Epoch 4/4\n",
      "15000/15000 [==============================] - 2s 154us/step - loss: 0.1762 - acc: 0.9443 - val_loss: 0.2747 - val_acc: 0.8889\n"
     ]
    },
    {
     "data": {
      "text/plain": [
       "<keras.callbacks.History at 0x11b0a47f0>"
      ]
     },
     "execution_count": 18,
     "metadata": {},
     "output_type": "execute_result"
    }
   ],
   "source": [
    "model = models.Sequential()\n",
    "model.add(layers.Dense(16, activation='relu', input_shape=(10000,)))\n",
    "model.add(layers.Dense(16, activation='relu'))\n",
    "model.add(layers.Dense(1, activation='sigmoid'))\n",
    "model.compile(optimizer='rmsprop', loss='binary_crossentropy', metrics=['accuracy'])\n",
    "\n",
    "model.fit(partial_x_train, partial_y_train, epochs=4, batch_size=512, validation_data=(x_val, y_val))"
   ]
  },
  {
   "cell_type": "code",
   "execution_count": 28,
   "metadata": {},
   "outputs": [
    {
     "name": "stdout",
     "output_type": "stream",
     "text": [
      "? this movie is in the same league as ? lots of wasted talent who let this bomb escape when ? says an example has to be made in reference to a nuclear bomb i said please let it be this theatre don't waste your time not even worth a free rental and where did they get these ? to fill the comments section on imdb i can't believe that anyone who has ever seen the original series enjoyed this stinker steve carell is not a physical comedian if they removed the comedy and made it a straight action movie it could pass what the heck was the purpose of the dance scene also the fat jokes and references were tasteless this movie never missed a chance to go for the lowest common ? and scenes just ended it seemed as if no one thought them through just awful save your time if not money and give this movie a pass\n"
     ]
    },
    {
     "data": {
      "text/plain": [
       "array([ 0.00243824], dtype=float32)"
      ]
     },
     "execution_count": 28,
     "metadata": {},
     "output_type": "execute_result"
    }
   ],
   "source": [
    "print(decode(test_data[900]))\n",
    "model.predict(x_test)[900]"
   ]
  },
  {
   "cell_type": "code",
   "execution_count": null,
   "metadata": {},
   "outputs": [],
   "source": []
  }
 ],
 "metadata": {
  "kernelspec": {
   "display_name": "Python 3",
   "language": "python",
   "name": "python3"
  },
  "language_info": {
   "codemirror_mode": {
    "name": "ipython",
    "version": 3
   },
   "file_extension": ".py",
   "mimetype": "text/x-python",
   "name": "python",
   "nbconvert_exporter": "python",
   "pygments_lexer": "ipython3",
   "version": "3.6.3"
  }
 },
 "nbformat": 4,
 "nbformat_minor": 2
}
